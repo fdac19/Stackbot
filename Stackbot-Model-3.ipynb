{
 "cells": [
  {
   "cell_type": "code",
   "execution_count": 1,
   "metadata": {},
   "outputs": [],
   "source": [
    "import pymongo\n",
    "import pandas as pd\n",
    "client = pymongo.MongoClient('da1.eecs.utk.edu')\n",
    "data = list(client['fdac19-Stackbot']['SOdata'].find())\n",
    "df = pd.DataFrame(data)\n",
    "removed = []\n",
    "data = pd.DataFrame() # Used in the Random Forest Model\n",
    "\n",
    "# print(len(df)) # Length before cleaning\n",
    "\n",
    "# Finds all dictionaries in df['code_and_ast'] that need to be removed\n",
    "# i.e. all questions that do not contain any code\n",
    "for i in df.index:\n",
    "    for j in df['code_and_ast'][i]:\n",
    "        if j['ast'] == 'none':\n",
    "            removed.append((i, j))\n",
    "            \n",
    "# Handles the removal process from df using the removed list\n",
    "for x in removed:        \n",
    "    if (df.at[x[0], 'code_and_ast'] is not None):\n",
    "        (df.at[x[0], 'code_and_ast']).remove(x[1])\n",
    "        if len(df.at[x[0], 'code_and_ast']) == 0:\n",
    "            df.at[x[0], 'code_and_ast'] = None\n",
    "    else:\n",
    "        print('Something went wrong! :(')\n",
    "\n",
    "# Removes all df rows that are non-null\n",
    "df = df[df['code_and_ast'].notnull()] \n",
    "\n",
    "df.reset_index(inplace=True) # Resets index from 1, 3, 5 --> 1, 2, 3 etc.\n",
    "\n",
    "# Build a static list of tags (that need to be predicted) based off of the df\n",
    "# Input feature set: \n",
    "for i in df.index:\n",
    "    for cat in df.at[i, 'code_and_ast']:\n",
    "        for tag in df.at[i, 'tags']:\n",
    "            if cat['ast'] is not None:\n",
    "                d = {'ast': [cat['ast']], 'tag': [tag]}\n",
    "                # Wow nice PANDAS this is not how append should works\n",
    "                data = data.append(pd.DataFrame(d), ignore_index=True)"
   ]
  },
  {
   "cell_type": "code",
   "execution_count": null,
   "metadata": {},
   "outputs": [
    {
     "name": "stderr",
     "output_type": "stream",
     "text": [
      " 38%|███▊      | 3471/9051 [09:51<15:34,  5.97it/s]"
     ]
    }
   ],
   "source": [
    "from tqdm import tqdm\n",
    "from pd_doc2vec_threaded import doc2vec\n",
    "\n",
    "# Converts the data tag field into a set for float usage within our model\n",
    "tag_set = set(data['tag'])\n",
    "\n",
    "tag_dict = {}\n",
    "for i, x in enumerate(tag_set):\n",
    "    tag_dict.update({x:i})\n",
    "\n",
    "data['tag_val'] = None\n",
    "for x in data.index:\n",
    "    data.at[x, 'tag_val'] = tag_dict[data.at[x, 'tag']]\n",
    "    \n",
    "# Removes python popular tag\n",
    "removed = []\n",
    "for x in data.index:\n",
    "    if 'python' in data.at[x, 'tag']:\n",
    "        removed.append(x)\n",
    "data.drop(removed, inplace=True)\n",
    "\n",
    "# Generalizes tags i.e. pyqt5 falls under pyqt, etc.\n",
    "for x in tqdm(data.index):\n",
    "    for y in data.index:\n",
    "        if data.at[x, 'tag'] in data.at[y, 'tag'] and x != y:\n",
    "            data.at[y, 'tag'] = data.at[x, 'tag']\n",
    "            data.at[y, 'tag_val'] = data.at[x, 'tag_val']\n",
    "            \n",
    "print(data)\n",
    "\n",
    "# This is our model\n",
    "# stack_brain = doc2vec(data, 'ast', ['tag_val'])"
   ]
  },
  {
   "cell_type": "code",
   "execution_count": null,
   "metadata": {},
   "outputs": [],
   "source": [
    "# This is the training\n",
    "stack_brain.score(verbose=True, iterations=10)"
   ]
  }
 ],
 "metadata": {
  "kernelspec": {
   "display_name": "Python 3",
   "language": "python",
   "name": "python3"
  },
  "language_info": {
   "codemirror_mode": {
    "name": "ipython",
    "version": 3
   },
   "file_extension": ".py",
   "mimetype": "text/x-python",
   "name": "python",
   "nbconvert_exporter": "python",
   "pygments_lexer": "ipython3",
   "version": "3.6.7"
  }
 },
 "nbformat": 4,
 "nbformat_minor": 2
}
